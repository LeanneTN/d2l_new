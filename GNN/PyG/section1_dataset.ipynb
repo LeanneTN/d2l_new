{
 "cells": [
  {
   "cell_type": "code",
   "execution_count": 1,
   "metadata": {
    "collapsed": true,
    "ExecuteTime": {
     "end_time": "2023-07-20T08:37:02.312977200Z",
     "start_time": "2023-07-20T08:36:53.795602600Z"
    }
   },
   "outputs": [],
   "source": [
    "import torch\n",
    "from torch_geometric.datasets import QM9\n",
    "from torch_geometric.loader import DataLoader\n",
    "from torch_geometric.nn import NNConv, global_add_pool\n",
    "import torch.nn.functional as F\n",
    "import torch.nn as nn\n",
    "import numpy as np"
   ]
  },
  {
   "cell_type": "code",
   "execution_count": 2,
   "outputs": [
    {
     "name": "stderr",
     "output_type": "stream",
     "text": [
      "Downloading https://data.pyg.org/datasets/qm9_v3.zip\n",
      "Extracting ..\\data\\raw\\qm9_v3.zip\n",
      "Processing...\n",
      "Using a pre-processed version of the dataset. Please install 'rdkit' to alternatively process the raw data.\n",
      "Done!\n"
     ]
    }
   ],
   "source": [
    "# QM9 dataset contains 133855 small organic molecules labeled with several geometric, energetic, electronic, and thermodynamic properties\n",
    "dataset = QM9('../data/')"
   ],
   "metadata": {
    "collapsed": false,
    "ExecuteTime": {
     "end_time": "2023-07-20T08:37:36.561898200Z",
     "start_time": "2023-07-20T08:37:04.215040600Z"
    }
   }
  },
  {
   "cell_type": "code",
   "execution_count": 3,
   "outputs": [
    {
     "data": {
      "text/plain": "130831"
     },
     "execution_count": 3,
     "metadata": {},
     "output_type": "execute_result"
    }
   ],
   "source": [
    "len(dataset)"
   ],
   "metadata": {
    "collapsed": false,
    "ExecuteTime": {
     "end_time": "2023-07-20T08:37:42.119443800Z",
     "start_time": "2023-07-20T08:37:42.104902400Z"
    }
   }
  },
  {
   "cell_type": "code",
   "execution_count": 4,
   "outputs": [
    {
     "data": {
      "text/plain": "Data(x=[5, 11], edge_index=[2, 8], edge_attr=[8, 4], y=[1, 19], pos=[5, 3], idx=[1], name='gdb_1', z=[5])"
     },
     "execution_count": 4,
     "metadata": {},
     "output_type": "execute_result"
    }
   ],
   "source": [
    "data = dataset[0]\n",
    "data"
   ],
   "metadata": {
    "collapsed": false,
    "ExecuteTime": {
     "end_time": "2023-07-20T08:37:50.282550300Z",
     "start_time": "2023-07-20T08:37:50.267590300Z"
    }
   }
  },
  {
   "cell_type": "code",
   "execution_count": 5,
   "outputs": [
    {
     "data": {
      "text/plain": "tensor([6, 1, 1, 1, 1])"
     },
     "execution_count": 5,
     "metadata": {},
     "output_type": "execute_result"
    }
   ],
   "source": [
    "data.z  # could access attributes directly"
   ],
   "metadata": {
    "collapsed": false,
    "ExecuteTime": {
     "end_time": "2023-07-20T08:38:09.231126700Z",
     "start_time": "2023-07-20T08:38:09.222151Z"
    }
   }
  },
  {
   "cell_type": "code",
   "execution_count": 6,
   "outputs": [
    {
     "data": {
      "text/plain": "Data(x=[5, 11], edge_index=[2, 8], edge_attr=[8, 4], y=[1, 19], pos=[5, 3], idx=[1], name='gdb_1', z=[5], new_attribute=[3])"
     },
     "execution_count": 6,
     "metadata": {},
     "output_type": "execute_result"
    }
   ],
   "source": [
    "# add nodes into data\n",
    "data.new_attribute = torch.tensor([1, 2, 3])\n",
    "data"
   ],
   "metadata": {
    "collapsed": false,
    "ExecuteTime": {
     "end_time": "2023-07-20T08:39:13.315722300Z",
     "start_time": "2023-07-20T08:39:13.306745600Z"
    }
   }
  },
  {
   "cell_type": "code",
   "execution_count": 7,
   "outputs": [
    {
     "data": {
      "text/plain": "True"
     },
     "execution_count": 7,
     "metadata": {},
     "output_type": "execute_result"
    }
   ],
   "source": [
    "device = 'cuda'\n",
    "data.to(device)\n",
    "data.new_attribute.is_cuda"
   ],
   "metadata": {
    "collapsed": false,
    "ExecuteTime": {
     "end_time": "2023-07-20T08:40:00.181542200Z",
     "start_time": "2023-07-20T08:40:00.046061300Z"
    }
   }
  },
  {
   "cell_type": "markdown",
   "source": [
    "The bond types of molecules are important; that is, which atoms are connected via a certain bond type, for example, single or double bonds, matters. Hence, we want to use a graph convolution that can utilize edge features.\n",
    "This convolution in the NNConv layer takes the following form:\n",
    "$$\n",
    "\\mathbf{X}_i^{(t)} = \\mathbf{WX}_i^{(t-1)} + \\sum_{j\\in N(i)}\\mathbf{X}_j^{(t-1)}\\cdot h_\\Theta(e_{i,j})\n",
    "$$\n",
    "Here, $h$ is a neural network parameterized by a set of weights $\\Theta$, and $mathbf{W}$ is a weight matrix for the node labels. This graph convolution is very similar to the one we implemented from scratch in the demo_GNN.py:\n",
    "$$\n",
    "mathbf{X}_i^{(t)} = \\mathbf{W}_1\\mathbf{X}_i^{(t-1)} + \\sum_{j \\in N(i)} \\mathbf{X}_j^{(t-1)}\\mathbf{W}_2\n",
    "$$\n",
    "Only difference between them is that the W2 equivalent, the neural network h, is parametrized based on the edge lables, which allows the weights to vary for different edge labels."
   ],
   "metadata": {
    "collapsed": false
   }
  },
  {
   "cell_type": "code",
   "execution_count": 8,
   "outputs": [],
   "source": [
    "class ExampleNet(torch.nn.Module):\n",
    "    def __init__(self, num_node_features, num_edge_features):\n",
    "        super().__init__()\n",
    "        conv1_net = nn.Sequential(\n",
    "            nn.Linear(num_edge_features, 32),\n",
    "            nn.ReLU(),\n",
    "            nn.Linear(32, num_node_features * 32)\n",
    "        )\n",
    "        conv2_net = nn.Sequential(\n",
    "            nn.Linear(num_edge_features, 32),\n",
    "            nn.ReLU(),\n",
    "            nn.Linear(32, 32 * 16)\n",
    "        )\n",
    "        self.conv1 = NNConv(num_node_features, 32, conv1_net)\n",
    "        self.conv2 = NNConv(32, 16, conv2_net)\n",
    "        self.fc_1 = nn.Linear(16, 32)\n",
    "        self.out = nn.Linear(32, 1)\n",
    "\n",
    "    def forward(self, data):\n",
    "        batch, x, edge_index, edge_attr = data.batch, data.x, data.edge_index, data.edge_attr\n",
    "        x = F.relu(self.conv1(x, edge_index, edge_attr))\n",
    "        x = F.relu(self.conv2(x, edge_index, edge_attr))\n",
    "        x = global_add_pool(x, batch)\n",
    "        x = F.relu(self.fc_1(x))\n",
    "        output = self.out(x)\n",
    "        return output"
   ],
   "metadata": {
    "collapsed": false,
    "ExecuteTime": {
     "end_time": "2023-07-20T09:03:30.040903400Z",
     "start_time": "2023-07-20T09:03:30.023948600Z"
    }
   }
  },
  {
   "cell_type": "code",
   "execution_count": 9,
   "outputs": [],
   "source": [
    "from torch.utils.data import random_split\n",
    "train_set, valid_set, test_set = random_split(dataset, [110000, 10831, 10000])\n",
    "train_loader = DataLoader(train_set, batch_size=32, shuffle=True)\n",
    "valid_loader = DataLoader(valid_set, batch_size=32, shuffle=True)\n",
    "test_loader = DataLoader(test_set, batch_size=32, shuffle=True)"
   ],
   "metadata": {
    "collapsed": false,
    "ExecuteTime": {
     "end_time": "2023-07-20T09:05:18.020361100Z",
     "start_time": "2023-07-20T09:05:17.999417200Z"
    }
   }
  },
  {
   "cell_type": "code",
   "execution_count": 10,
   "outputs": [
    {
     "data": {
      "text/plain": "ExampleNet(\n  (conv1): NNConv(11, 32, aggr=add, nn=Sequential(\n    (0): Linear(in_features=4, out_features=32, bias=True)\n    (1): ReLU()\n    (2): Linear(in_features=32, out_features=352, bias=True)\n  ))\n  (conv2): NNConv(32, 16, aggr=add, nn=Sequential(\n    (0): Linear(in_features=4, out_features=32, bias=True)\n    (1): ReLU()\n    (2): Linear(in_features=32, out_features=512, bias=True)\n  ))\n  (fc_1): Linear(in_features=16, out_features=32, bias=True)\n  (out): Linear(in_features=32, out_features=1, bias=True)\n)"
     },
     "execution_count": 10,
     "metadata": {},
     "output_type": "execute_result"
    }
   ],
   "source": [
    "node_feats, edge_feats = 11, 4\n",
    "net = ExampleNet(node_feats, edge_feats)\n",
    "optimizer = torch.optim.Adam(net.parameters(), lr=0.01)\n",
    "epochs = 4\n",
    "target_idx = 1  # index position of the polarizability label\n",
    "net.to('cuda')"
   ],
   "metadata": {
    "collapsed": false,
    "ExecuteTime": {
     "end_time": "2023-07-20T09:06:44.255787600Z",
     "start_time": "2023-07-20T09:06:44.233824Z"
    }
   }
  },
  {
   "cell_type": "code",
   "execution_count": 11,
   "outputs": [
    {
     "name": "stdout",
     "output_type": "stream",
     "text": [
      "epochs: 0 | epoch avg loss: 0.46 | validation avg loss: 0.10\n",
      "epochs: 1 | epoch avg loss: 0.13 | validation avg loss: 0.67\n",
      "epochs: 2 | epoch avg loss: 0.11 | validation avg loss: 0.11\n",
      "epochs: 3 | epoch avg loss: 0.11 | validation avg loss: 0.09\n"
     ]
    }
   ],
   "source": [
    "for total_epochs in range(epochs):\n",
    "    epoch_loss = 0\n",
    "    total_graphs = 0\n",
    "    net.train()\n",
    "    for batch in train_loader:\n",
    "        batch.to(device)\n",
    "        optimizer.zero_grad()\n",
    "        output = net(batch)\n",
    "        loss = F.mse_loss(output, batch.y[:, target_idx].unsqueeze(1))\n",
    "        loss.backward()\n",
    "        epoch_loss += loss.item()\n",
    "        total_graphs += batch.num_graphs\n",
    "        optimizer.step()  # step is used to tell the optimizer to update x\n",
    "    train_avg_loss = epoch_loss / total_graphs\n",
    "    val_loss = 0\n",
    "    total_graphs = 0\n",
    "    net.eval()\n",
    "    for batch in valid_loader:\n",
    "        batch.to(device)\n",
    "        output = net(batch)\n",
    "        loss = F.mse_loss(output, batch.y[:, target_idx].unsqueeze(1))\n",
    "        val_loss += loss.item()\n",
    "        total_graphs += batch.num_graphs\n",
    "    val_avg_loss = val_loss / total_graphs\n",
    "    print(f'epochs: {total_epochs} | epoch avg loss: {train_avg_loss:.2f} | validation avg loss: {val_avg_loss:.2f}')"
   ],
   "metadata": {
    "collapsed": false,
    "ExecuteTime": {
     "end_time": "2023-07-20T09:16:32.546698900Z",
     "start_time": "2023-07-20T09:13:49.640060Z"
    }
   }
  },
  {
   "cell_type": "code",
   "execution_count": 12,
   "outputs": [],
   "source": [
    "net.eval()\n",
    "predictions = []\n",
    "real = []\n",
    "for batch in test_loader:\n",
    "    output = net(batch.to(device))\n",
    "    predictions.append(output.detach().cpu().numpy())\n",
    "    real.append(batch.y[:, target_idx].detach().cpu().numpy())\n",
    "real = np.concatenate(real)\n",
    "predictions = np.concatenate(predictions)"
   ],
   "metadata": {
    "collapsed": false,
    "ExecuteTime": {
     "end_time": "2023-07-20T09:19:19.218214100Z",
     "start_time": "2023-07-20T09:19:16.392257900Z"
    }
   }
  },
  {
   "cell_type": "code",
   "execution_count": 13,
   "outputs": [
    {
     "data": {
      "text/plain": "Text(0, 0.5, 'Predicted isotropic polarizability')"
     },
     "execution_count": 13,
     "metadata": {},
     "output_type": "execute_result"
    },
    {
     "data": {
      "text/plain": "<Figure size 640x480 with 1 Axes>",
      "image/png": "[encoded data removed]"
     },
     "metadata": {},
     "output_type": "display_data"
    }
   ],
   "source": [
    "%matplotlib inline\n",
    "import matplotlib.pyplot as plt\n",
    "plt.scatter(real[:500], predictions[:500])\n",
    "plt.xlabel('Isotropic polarizability')\n",
    "plt.ylabel('Predicted isotropic polarizability')"
   ],
   "metadata": {
    "collapsed": false,
    "ExecuteTime": {
     "end_time": "2023-07-20T09:20:44.747750Z",
     "start_time": "2023-07-20T09:20:43.520934200Z"
    }
   }
  }
 ],
 "metadata": {
  "kernelspec": {
   "display_name": "Python 3",
   "language": "python",
   "name": "python3"
  },
  "language_info": {
   "codemirror_mode": {
    "name": "ipython",
    "version": 2
   },
   "file_extension": ".py",
   "mimetype": "text/x-python",
   "name": "python",
   "nbconvert_exporter": "python",
   "pygments_lexer": "ipython2",
   "version": "2.7.6"
  }
 },
 "nbformat": 4,
 "nbformat_minor": 0
}
