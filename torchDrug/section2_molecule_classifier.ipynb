{
 "cells": [
  {
   "cell_type": "markdown",
   "source": [
    "## A Molecule Classifier\n",
    "In this section will demonstrate how to use TorchDrug to create a molecule classifier. Specifically, TorchDrug provides us with a large collection of popular datasets and models for drug discovery and graph representation learning.\n",
    "We will use ClinTox dataset in the following section. This dataset requires to predict whether a molecule is toxic in clinic trials, and whether it is approved by FDA"
   ],
   "metadata": {
    "collapsed": false
   }
  },
  {
   "cell_type": "code",
   "execution_count": 1,
   "metadata": {
    "collapsed": true,
    "ExecuteTime": {
     "end_time": "2023-08-03T11:52:30.351242400Z",
     "start_time": "2023-08-03T11:52:24.080470Z"
    }
   },
   "outputs": [
    {
     "name": "stdout",
     "output_type": "stream",
     "text": [
      "19:52:26   Downloading http://deepchem.io.s3-website-us-west-1.amazonaws.com/datasets/clintox.csv.gz to C:\\Users\\Leanne/data/clintox.csv.gz\n",
      "19:52:27   Extracting C:\\Users\\Leanne/data/clintox.csv.gz to C:\\Users\\Leanne/data\\clintox.csv\n"
     ]
    },
    {
     "name": "stderr",
     "output_type": "stream",
     "text": [
      "Loading C:\\Users\\Leanne/data\\clintox.csv: 100%|██████████| 1485/1485 [00:00<00:00, 82718.55it/s]\n",
      "Constructing molecules from SMILES:   0%|          | 0/1484 [00:00<?, ?it/s]D:\\anaconda\\envs\\d2l\\lib\\site-packages\\torchdrug\\data\\feature.py:42: UserWarning: Unknown value `*`\n",
      "  warnings.warn(\"Unknown value `%s`\" % x)\n",
      "[19:52:27] Explicit valence for atom # 0 N, 5, is greater than permitted\n",
      "D:\\anaconda\\envs\\d2l\\lib\\site-packages\\torchdrug\\data\\feature.py:42: UserWarning: Unknown value `Tc`\n",
      "  warnings.warn(\"Unknown value `%s`\" % x)\n",
      "D:\\anaconda\\envs\\d2l\\lib\\site-packages\\torchdrug\\data\\feature.py:42: UserWarning: Unknown value `Fe`\n",
      "  warnings.warn(\"Unknown value `%s`\" % x)\n",
      "D:\\anaconda\\envs\\d2l\\lib\\site-packages\\torchdrug\\data\\feature.py:42: UserWarning: Unknown value `Al`\n",
      "  warnings.warn(\"Unknown value `%s`\" % x)\n",
      "Constructing molecules from SMILES:   5%|▌         | 75/1484 [00:00<00:01, 744.56it/s]D:\\anaconda\\envs\\d2l\\lib\\site-packages\\torchdrug\\data\\feature.py:42: UserWarning: Unknown value `Ca`\n",
      "  warnings.warn(\"Unknown value `%s`\" % x)\n",
      "Constructing molecules from SMILES:  10%|█         | 150/1484 [00:00<00:02, 618.49it/s]D:\\anaconda\\envs\\d2l\\lib\\site-packages\\torchdrug\\data\\feature.py:42: UserWarning: Unknown value `Pt`\n",
      "  warnings.warn(\"Unknown value `%s`\" % x)\n",
      "Constructing molecules from SMILES:  18%|█▊        | 273/1484 [00:00<00:02, 547.91it/s][19:52:27] Can't kekulize mol.  Unkekulized atoms: 9\n",
      "D:\\anaconda\\envs\\d2l\\lib\\site-packages\\torchdrug\\data\\feature.py:42: UserWarning: Unknown value `Bi`\n",
      "  warnings.warn(\"Unknown value `%s`\" % x)\n",
      "Constructing molecules from SMILES:  66%|██████▌   | 976/1484 [00:01<00:01, 461.47it/s][19:52:29] Explicit valence for atom # 10 N, 4, is greater than permitted\n",
      "[19:52:29] Explicit valence for atom # 10 N, 4, is greater than permitted\n",
      "Constructing molecules from SMILES:  79%|███████▉  | 1171/1484 [00:02<00:00, 459.60it/s][19:52:29] Can't kekulize mol.  Unkekulized atoms: 4\n",
      "[19:52:29] Can't kekulize mol.  Unkekulized atoms: 4\n",
      "Constructing molecules from SMILES:  89%|████████▉ | 1319/1484 [00:02<00:00, 426.10it/s]D:\\anaconda\\envs\\d2l\\lib\\site-packages\\torchdrug\\data\\feature.py:42: UserWarning: Unknown value `Au`\n",
      "  warnings.warn(\"Unknown value `%s`\" % x)\n",
      "D:\\anaconda\\envs\\d2l\\lib\\site-packages\\torchdrug\\data\\feature.py:42: UserWarning: Unknown value `Tl`\n",
      "  warnings.warn(\"Unknown value `%s`\" % x)\n",
      "D:\\anaconda\\envs\\d2l\\lib\\site-packages\\torchdrug\\data\\feature.py:42: UserWarning: Unknown value `Cr`\n",
      "  warnings.warn(\"Unknown value `%s`\" % x)\n",
      "D:\\anaconda\\envs\\d2l\\lib\\site-packages\\torchdrug\\data\\feature.py:42: UserWarning: Unknown value `Mn`\n",
      "  warnings.warn(\"Unknown value `%s`\" % x)\n",
      "Constructing molecules from SMILES:  96%|█████████▌| 1423/1484 [00:02<00:00, 467.86it/s]D:\\anaconda\\envs\\d2l\\lib\\site-packages\\torchdrug\\data\\feature.py:42: UserWarning: Unknown value `Hg`\n",
      "  warnings.warn(\"Unknown value `%s`\" % x)\n",
      "Constructing molecules from SMILES:  99%|█████████▉| 1471/1484 [00:03<00:00, 465.07it/s]D:\\anaconda\\envs\\d2l\\lib\\site-packages\\torchdrug\\data\\feature.py:42: UserWarning: Unknown value `As`\n",
      "  warnings.warn(\"Unknown value `%s`\" % x)\n",
      "D:\\anaconda\\envs\\d2l\\lib\\site-packages\\torchdrug\\data\\feature.py:42: UserWarning: Unknown value `Ti`\n",
      "  warnings.warn(\"Unknown value `%s`\" % x)\n",
      "Constructing molecules from SMILES: 100%|██████████| 1484/1484 [00:03<00:00, 486.50it/s]\n"
     ]
    }
   ],
   "source": [
    "import torch\n",
    "import torchDrug as td\n",
    "from torchdrug import datasets\n",
    "from torch import utils\n",
    "\n",
    "dataset = datasets.ClinTox('../data/')\n",
    "lengths = [int(0.8 * len(dataset)), int(1.0 * len(dataset))]\n",
    "lengths += [len(dataset) - sum(lengths)]\n",
    "train_set, valid_set, test_set = utils.data.random_split(dataset, lengths)"
   ]
  },
  {
   "cell_type": "markdown",
   "source": [
    "## define a GNN for classification\n",
    "We define a GNN to encode the molecule graphs. We use a Graph Isomorphism network with 4 hidden layers"
   ],
   "metadata": {
    "collapsed": false
   }
  },
  {
   "cell_type": "code",
   "execution_count": 5,
   "outputs": [
    {
     "name": "stdout",
     "output_type": "stream",
     "text": [
      "20:11:11   Downloading http://deepchem.io.s3-website-us-west-1.amazonaws.com/datasets/clintox.csv.gz to ./data/clintox.csv.gz\n",
      "20:11:16   Extracting ./data/clintox.csv.gz to ./data\\clintox.csv\n"
     ]
    },
    {
     "name": "stderr",
     "output_type": "stream",
     "text": [
      "Loading ./data\\clintox.csv: 100%|██████████| 1485/1485 [00:00<00:00, 84509.80it/s]\n",
      "Constructing molecules from SMILES:   0%|          | 0/1484 [00:00<?, ?it/s]D:\\anaconda\\envs\\d2l\\lib\\site-packages\\torchdrug\\data\\feature.py:42: UserWarning: Unknown value `*`\n",
      "  warnings.warn(\"Unknown value `%s`\" % x)\n",
      "[20:11:16] Explicit valence for atom # 0 N, 5, is greater than permitted\n",
      "D:\\anaconda\\envs\\d2l\\lib\\site-packages\\torchdrug\\data\\feature.py:42: UserWarning: Unknown value `Tc`\n",
      "  warnings.warn(\"Unknown value `%s`\" % x)\n",
      "D:\\anaconda\\envs\\d2l\\lib\\site-packages\\torchdrug\\data\\feature.py:42: UserWarning: Unknown value `Fe`\n",
      "  warnings.warn(\"Unknown value `%s`\" % x)\n",
      "D:\\anaconda\\envs\\d2l\\lib\\site-packages\\torchdrug\\data\\feature.py:42: UserWarning: Unknown value `Al`\n",
      "  warnings.warn(\"Unknown value `%s`\" % x)\n",
      "Constructing molecules from SMILES:   6%|▌         | 86/1484 [00:00<00:01, 854.84it/s]D:\\anaconda\\envs\\d2l\\lib\\site-packages\\torchdrug\\data\\feature.py:42: UserWarning: Unknown value `Ca`\n",
      "  warnings.warn(\"Unknown value `%s`\" % x)\n",
      "D:\\anaconda\\envs\\d2l\\lib\\site-packages\\torchdrug\\data\\feature.py:42: UserWarning: Unknown value `Pt`\n",
      "  warnings.warn(\"Unknown value `%s`\" % x)\n",
      "Constructing molecules from SMILES:  16%|█▋        | 242/1484 [00:00<00:01, 648.72it/s][20:11:16] Can't kekulize mol.  Unkekulized atoms: 9\n",
      "Constructing molecules from SMILES:  21%|██        | 309/1484 [00:00<00:01, 635.73it/s]D:\\anaconda\\envs\\d2l\\lib\\site-packages\\torchdrug\\data\\feature.py:42: UserWarning: Unknown value `Bi`\n",
      "  warnings.warn(\"Unknown value `%s`\" % x)\n",
      "Constructing molecules from SMILES:  64%|██████▍   | 955/1484 [00:01<00:01, 516.58it/s][20:11:18] Explicit valence for atom # 10 N, 4, is greater than permitted\n",
      "[20:11:18] Explicit valence for atom # 10 N, 4, is greater than permitted\n",
      "Constructing molecules from SMILES:  82%|████████▏ | 1218/1484 [00:02<00:00, 514.56it/s][20:11:18] Can't kekulize mol.  Unkekulized atoms: 4\n",
      "[20:11:18] Can't kekulize mol.  Unkekulized atoms: 4\n",
      "Constructing molecules from SMILES:  89%|████████▉ | 1321/1484 [00:02<00:00, 490.79it/s]D:\\anaconda\\envs\\d2l\\lib\\site-packages\\torchdrug\\data\\feature.py:42: UserWarning: Unknown value `Au`\n",
      "  warnings.warn(\"Unknown value `%s`\" % x)\n",
      "D:\\anaconda\\envs\\d2l\\lib\\site-packages\\torchdrug\\data\\feature.py:42: UserWarning: Unknown value `Tl`\n",
      "  warnings.warn(\"Unknown value `%s`\" % x)\n",
      "D:\\anaconda\\envs\\d2l\\lib\\site-packages\\torchdrug\\data\\feature.py:42: UserWarning: Unknown value `Cr`\n",
      "  warnings.warn(\"Unknown value `%s`\" % x)\n",
      "D:\\anaconda\\envs\\d2l\\lib\\site-packages\\torchdrug\\data\\feature.py:42: UserWarning: Unknown value `Mn`\n",
      "  warnings.warn(\"Unknown value `%s`\" % x)\n",
      "Constructing molecules from SMILES:  93%|█████████▎| 1381/1484 [00:02<00:00, 520.05it/s]D:\\anaconda\\envs\\d2l\\lib\\site-packages\\torchdrug\\data\\feature.py:42: UserWarning: Unknown value `Hg`\n",
      "  warnings.warn(\"Unknown value `%s`\" % x)\n",
      "Constructing molecules from SMILES:  97%|█████████▋| 1439/1484 [00:02<00:00, 535.21it/s]D:\\anaconda\\envs\\d2l\\lib\\site-packages\\torchdrug\\data\\feature.py:42: UserWarning: Unknown value `As`\n",
      "  warnings.warn(\"Unknown value `%s`\" % x)\n",
      "D:\\anaconda\\envs\\d2l\\lib\\site-packages\\torchdrug\\data\\feature.py:42: UserWarning: Unknown value `Ti`\n",
      "  warnings.warn(\"Unknown value `%s`\" % x)\n",
      "Constructing molecules from SMILES: 100%|██████████| 1484/1484 [00:02<00:00, 547.64it/s]\n"
     ]
    }
   ],
   "source": [
    "from torchdrug import core, models, tasks\n",
    "\n",
    "dataset = datasets.ClinTox('./data/')\n",
    "model = models.GIN(input_dim=dataset.node_feature_dim, hidden_dims=[256, 256, 256, 256],\n",
    "                   short_cut=True, batch_norm=True, concat_hidden=True)"
   ],
   "metadata": {
    "collapsed": false,
    "ExecuteTime": {
     "end_time": "2023-08-03T12:11:19.045289100Z",
     "start_time": "2023-08-03T12:11:11.279238300Z"
    }
   }
  },
  {
   "cell_type": "markdown",
   "source": [
    "The model is simply a neural network without any training target. To adapt it for classification, we wrap it with a property prediction module. We define the classification task by the binary cross entropy criterion."
   ],
   "metadata": {
    "collapsed": false
   }
  },
  {
   "cell_type": "code",
   "execution_count": 6,
   "outputs": [],
   "source": [
    "task = tasks.PropertyPrediction(model, task=dataset.tasks, criterion=\"bce\", metric=(\"auprc\", \"auroc\"))"
   ],
   "metadata": {
    "collapsed": false,
    "ExecuteTime": {
     "end_time": "2023-08-03T12:11:45.649399Z",
     "start_time": "2023-08-03T12:11:45.630267600Z"
    }
   }
  },
  {
   "cell_type": "code",
   "execution_count": 7,
   "outputs": [
    {
     "name": "stdout",
     "output_type": "stream",
     "text": [
      "20:11:45   Preprocess training set\n",
      "20:11:45   {'batch_size': 1024,\n",
      " 'class': 'core.Engine',\n",
      " 'gpus': [0],\n",
      " 'gradient_interval': 1,\n",
      " 'log_interval': 100,\n",
      " 'logger': 'logging',\n",
      " 'num_worker': 0,\n",
      " 'optimizer': {'amsgrad': False,\n",
      "               'betas': (0.9, 0.999),\n",
      "               'capturable': False,\n",
      "               'class': 'optim.Adam',\n",
      "               'eps': 1e-08,\n",
      "               'foreach': None,\n",
      "               'lr': 0.001,\n",
      "               'maximize': False,\n",
      "               'weight_decay': 0},\n",
      " 'scheduler': None,\n",
      " 'task': {'class': 'tasks.PropertyPrediction',\n",
      "          'criterion': 'bce',\n",
      "          'graph_construction_model': None,\n",
      "          'metric': ('auprc', 'auroc'),\n",
      "          'mlp_batch_norm': False,\n",
      "          'mlp_dropout': 0,\n",
      "          'model': {'activation': 'relu',\n",
      "                    'batch_norm': True,\n",
      "                    'class': 'models.GIN',\n",
      "                    'concat_hidden': True,\n",
      "                    'edge_input_dim': None,\n",
      "                    'eps': 0,\n",
      "                    'hidden_dims': [256, 256, 256, 256],\n",
      "                    'input_dim': 67,\n",
      "                    'learn_eps': False,\n",
      "                    'num_mlp_layer': 2,\n",
      "                    'readout': 'sum',\n",
      "                    'short_cut': True},\n",
      "          'normalization': True,\n",
      "          'num_class': None,\n",
      "          'num_mlp_layer': 1,\n",
      "          'task': ['FDA_APPROVED', 'CT_TOX'],\n",
      "          'verbose': 0},\n",
      " 'test_set': {'class': 'dataset.Subset',\n",
      "              'dataset': {'class': 'datasets.ClinTox',\n",
      "                          'path': '~/data/',\n",
      "                          'verbose': 1},\n",
      "              'indices': []},\n",
      " 'train_set': {'class': 'dataset.Subset',\n",
      "               'dataset': {'class': 'datasets.ClinTox',\n",
      "                           'path': '~/data/',\n",
      "                           'verbose': 1},\n",
      "               'indices': [470, 884, 912, ..., 459, 807, 1470]},\n",
      " 'valid_set': {'class': 'dataset.Subset',\n",
      "               'dataset': {'class': 'datasets.ClinTox',\n",
      "                           'path': '~/data/',\n",
      "                           'verbose': 1},\n",
      "               'indices': [647, 874, 604, ..., 951, 633, 1279]}}\n",
      "20:11:45   >>>>>>>>>>>>>>>>>>>>>>>>>>>>>>\n",
      "20:11:45   Epoch 0 begin\n"
     ]
    },
    {
     "ename": "ImportError",
     "evalue": "DLL load failed while importing torch_ext: 找不到指定的模块。",
     "output_type": "error",
     "traceback": [
      "\u001B[1;31m---------------------------------------------------------------------------\u001B[0m",
      "\u001B[1;31mImportError\u001B[0m                               Traceback (most recent call last)",
      "Cell \u001B[1;32mIn[7], line 3\u001B[0m\n\u001B[0;32m      1\u001B[0m optimizer \u001B[38;5;241m=\u001B[39m torch\u001B[38;5;241m.\u001B[39moptim\u001B[38;5;241m.\u001B[39mAdam(task\u001B[38;5;241m.\u001B[39mparameters(), lr\u001B[38;5;241m=\u001B[39m\u001B[38;5;241m1e-3\u001B[39m)\n\u001B[0;32m      2\u001B[0m solver \u001B[38;5;241m=\u001B[39m core\u001B[38;5;241m.\u001B[39mEngine(task, train_set, valid_set, test_set, optimizer, batch_size\u001B[38;5;241m=\u001B[39m\u001B[38;5;241m1024\u001B[39m, gpus\u001B[38;5;241m=\u001B[39m[\u001B[38;5;241m0\u001B[39m])\n\u001B[1;32m----> 3\u001B[0m \u001B[43msolver\u001B[49m\u001B[38;5;241;43m.\u001B[39;49m\u001B[43mtrain\u001B[49m\u001B[43m(\u001B[49m\u001B[43mnum_epoch\u001B[49m\u001B[38;5;241;43m=\u001B[39;49m\u001B[38;5;241;43m100\u001B[39;49m\u001B[43m)\u001B[49m\n",
      "File \u001B[1;32mD:\\anaconda\\envs\\d2l\\lib\\site-packages\\torchdrug\\core\\engine.py:161\u001B[0m, in \u001B[0;36mEngine.train\u001B[1;34m(self, num_epoch, batch_per_epoch)\u001B[0m\n\u001B[0;32m    158\u001B[0m \u001B[38;5;28;01mif\u001B[39;00m \u001B[38;5;28mself\u001B[39m\u001B[38;5;241m.\u001B[39mdevice\u001B[38;5;241m.\u001B[39mtype \u001B[38;5;241m==\u001B[39m \u001B[38;5;124m\"\u001B[39m\u001B[38;5;124mcuda\u001B[39m\u001B[38;5;124m\"\u001B[39m:\n\u001B[0;32m    159\u001B[0m     batch \u001B[38;5;241m=\u001B[39m utils\u001B[38;5;241m.\u001B[39mcuda(batch, device\u001B[38;5;241m=\u001B[39m\u001B[38;5;28mself\u001B[39m\u001B[38;5;241m.\u001B[39mdevice)\n\u001B[1;32m--> 161\u001B[0m loss, metric \u001B[38;5;241m=\u001B[39m \u001B[43mmodel\u001B[49m\u001B[43m(\u001B[49m\u001B[43mbatch\u001B[49m\u001B[43m)\u001B[49m\n\u001B[0;32m    162\u001B[0m \u001B[38;5;28;01mif\u001B[39;00m \u001B[38;5;129;01mnot\u001B[39;00m loss\u001B[38;5;241m.\u001B[39mrequires_grad:\n\u001B[0;32m    163\u001B[0m     \u001B[38;5;28;01mraise\u001B[39;00m \u001B[38;5;167;01mRuntimeError\u001B[39;00m(\u001B[38;5;124m\"\u001B[39m\u001B[38;5;124mLoss doesn\u001B[39m\u001B[38;5;124m'\u001B[39m\u001B[38;5;124mt require grad. Did you define any loss in the task?\u001B[39m\u001B[38;5;124m\"\u001B[39m)\n",
      "File \u001B[1;32mD:\\anaconda\\envs\\d2l\\lib\\site-packages\\torch\\nn\\modules\\module.py:1130\u001B[0m, in \u001B[0;36mModule._call_impl\u001B[1;34m(self, *input, **kwargs)\u001B[0m\n\u001B[0;32m   1126\u001B[0m \u001B[38;5;66;03m# If we don't have any hooks, we want to skip the rest of the logic in\u001B[39;00m\n\u001B[0;32m   1127\u001B[0m \u001B[38;5;66;03m# this function, and just call forward.\u001B[39;00m\n\u001B[0;32m   1128\u001B[0m \u001B[38;5;28;01mif\u001B[39;00m \u001B[38;5;129;01mnot\u001B[39;00m (\u001B[38;5;28mself\u001B[39m\u001B[38;5;241m.\u001B[39m_backward_hooks \u001B[38;5;129;01mor\u001B[39;00m \u001B[38;5;28mself\u001B[39m\u001B[38;5;241m.\u001B[39m_forward_hooks \u001B[38;5;129;01mor\u001B[39;00m \u001B[38;5;28mself\u001B[39m\u001B[38;5;241m.\u001B[39m_forward_pre_hooks \u001B[38;5;129;01mor\u001B[39;00m _global_backward_hooks\n\u001B[0;32m   1129\u001B[0m         \u001B[38;5;129;01mor\u001B[39;00m _global_forward_hooks \u001B[38;5;129;01mor\u001B[39;00m _global_forward_pre_hooks):\n\u001B[1;32m-> 1130\u001B[0m     \u001B[38;5;28;01mreturn\u001B[39;00m forward_call(\u001B[38;5;241m*\u001B[39m\u001B[38;5;28minput\u001B[39m, \u001B[38;5;241m*\u001B[39m\u001B[38;5;241m*\u001B[39mkwargs)\n\u001B[0;32m   1131\u001B[0m \u001B[38;5;66;03m# Do not call functions when jit is used\u001B[39;00m\n\u001B[0;32m   1132\u001B[0m full_backward_hooks, non_full_backward_hooks \u001B[38;5;241m=\u001B[39m [], []\n",
      "File \u001B[1;32mD:\\anaconda\\envs\\d2l\\lib\\site-packages\\torchdrug\\tasks\\property_prediction.py:102\u001B[0m, in \u001B[0;36mPropertyPrediction.forward\u001B[1;34m(self, batch)\u001B[0m\n\u001B[0;32m     99\u001B[0m all_loss \u001B[38;5;241m=\u001B[39m torch\u001B[38;5;241m.\u001B[39mtensor(\u001B[38;5;241m0\u001B[39m, dtype\u001B[38;5;241m=\u001B[39mtorch\u001B[38;5;241m.\u001B[39mfloat32, device\u001B[38;5;241m=\u001B[39m\u001B[38;5;28mself\u001B[39m\u001B[38;5;241m.\u001B[39mdevice)\n\u001B[0;32m    100\u001B[0m metric \u001B[38;5;241m=\u001B[39m {}\n\u001B[1;32m--> 102\u001B[0m pred \u001B[38;5;241m=\u001B[39m \u001B[38;5;28;43mself\u001B[39;49m\u001B[38;5;241;43m.\u001B[39;49m\u001B[43mpredict\u001B[49m\u001B[43m(\u001B[49m\u001B[43mbatch\u001B[49m\u001B[43m,\u001B[49m\u001B[43m \u001B[49m\u001B[43mall_loss\u001B[49m\u001B[43m,\u001B[49m\u001B[43m \u001B[49m\u001B[43mmetric\u001B[49m\u001B[43m)\u001B[49m\n\u001B[0;32m    104\u001B[0m \u001B[38;5;28;01mif\u001B[39;00m \u001B[38;5;28mall\u001B[39m([t \u001B[38;5;129;01mnot\u001B[39;00m \u001B[38;5;129;01min\u001B[39;00m batch \u001B[38;5;28;01mfor\u001B[39;00m t \u001B[38;5;129;01min\u001B[39;00m \u001B[38;5;28mself\u001B[39m\u001B[38;5;241m.\u001B[39mtask]):\n\u001B[0;32m    105\u001B[0m     \u001B[38;5;66;03m# unlabeled data\u001B[39;00m\n\u001B[0;32m    106\u001B[0m     \u001B[38;5;28;01mreturn\u001B[39;00m all_loss, metric\n",
      "File \u001B[1;32mD:\\anaconda\\envs\\d2l\\lib\\site-packages\\torchdrug\\tasks\\property_prediction.py:140\u001B[0m, in \u001B[0;36mPropertyPrediction.predict\u001B[1;34m(self, batch, all_loss, metric)\u001B[0m\n\u001B[0;32m    138\u001B[0m \u001B[38;5;28;01mif\u001B[39;00m \u001B[38;5;28mself\u001B[39m\u001B[38;5;241m.\u001B[39mgraph_construction_model:\n\u001B[0;32m    139\u001B[0m     graph \u001B[38;5;241m=\u001B[39m \u001B[38;5;28mself\u001B[39m\u001B[38;5;241m.\u001B[39mgraph_construction_model(graph)\n\u001B[1;32m--> 140\u001B[0m output \u001B[38;5;241m=\u001B[39m \u001B[38;5;28;43mself\u001B[39;49m\u001B[38;5;241;43m.\u001B[39;49m\u001B[43mmodel\u001B[49m\u001B[43m(\u001B[49m\u001B[43mgraph\u001B[49m\u001B[43m,\u001B[49m\u001B[43m \u001B[49m\u001B[43mgraph\u001B[49m\u001B[38;5;241;43m.\u001B[39;49m\u001B[43mnode_feature\u001B[49m\u001B[38;5;241;43m.\u001B[39;49m\u001B[43mfloat\u001B[49m\u001B[43m(\u001B[49m\u001B[43m)\u001B[49m\u001B[43m,\u001B[49m\u001B[43m \u001B[49m\u001B[43mall_loss\u001B[49m\u001B[38;5;241;43m=\u001B[39;49m\u001B[43mall_loss\u001B[49m\u001B[43m,\u001B[49m\u001B[43m \u001B[49m\u001B[43mmetric\u001B[49m\u001B[38;5;241;43m=\u001B[39;49m\u001B[43mmetric\u001B[49m\u001B[43m)\u001B[49m\n\u001B[0;32m    141\u001B[0m pred \u001B[38;5;241m=\u001B[39m \u001B[38;5;28mself\u001B[39m\u001B[38;5;241m.\u001B[39mmlp(output[\u001B[38;5;124m\"\u001B[39m\u001B[38;5;124mgraph_feature\u001B[39m\u001B[38;5;124m\"\u001B[39m])\n\u001B[0;32m    142\u001B[0m \u001B[38;5;28;01mif\u001B[39;00m \u001B[38;5;28mself\u001B[39m\u001B[38;5;241m.\u001B[39mnormalization:\n",
      "File \u001B[1;32mD:\\anaconda\\envs\\d2l\\lib\\site-packages\\torch\\nn\\modules\\module.py:1130\u001B[0m, in \u001B[0;36mModule._call_impl\u001B[1;34m(self, *input, **kwargs)\u001B[0m\n\u001B[0;32m   1126\u001B[0m \u001B[38;5;66;03m# If we don't have any hooks, we want to skip the rest of the logic in\u001B[39;00m\n\u001B[0;32m   1127\u001B[0m \u001B[38;5;66;03m# this function, and just call forward.\u001B[39;00m\n\u001B[0;32m   1128\u001B[0m \u001B[38;5;28;01mif\u001B[39;00m \u001B[38;5;129;01mnot\u001B[39;00m (\u001B[38;5;28mself\u001B[39m\u001B[38;5;241m.\u001B[39m_backward_hooks \u001B[38;5;129;01mor\u001B[39;00m \u001B[38;5;28mself\u001B[39m\u001B[38;5;241m.\u001B[39m_forward_hooks \u001B[38;5;129;01mor\u001B[39;00m \u001B[38;5;28mself\u001B[39m\u001B[38;5;241m.\u001B[39m_forward_pre_hooks \u001B[38;5;129;01mor\u001B[39;00m _global_backward_hooks\n\u001B[0;32m   1129\u001B[0m         \u001B[38;5;129;01mor\u001B[39;00m _global_forward_hooks \u001B[38;5;129;01mor\u001B[39;00m _global_forward_pre_hooks):\n\u001B[1;32m-> 1130\u001B[0m     \u001B[38;5;28;01mreturn\u001B[39;00m forward_call(\u001B[38;5;241m*\u001B[39m\u001B[38;5;28minput\u001B[39m, \u001B[38;5;241m*\u001B[39m\u001B[38;5;241m*\u001B[39mkwargs)\n\u001B[0;32m   1131\u001B[0m \u001B[38;5;66;03m# Do not call functions when jit is used\u001B[39;00m\n\u001B[0;32m   1132\u001B[0m full_backward_hooks, non_full_backward_hooks \u001B[38;5;241m=\u001B[39m [], []\n",
      "File \u001B[1;32mD:\\anaconda\\envs\\d2l\\lib\\site-packages\\torchdrug\\models\\gin.py:76\u001B[0m, in \u001B[0;36mGraphIsomorphismNetwork.forward\u001B[1;34m(self, graph, input, all_loss, metric)\u001B[0m\n\u001B[0;32m     73\u001B[0m layer_input \u001B[38;5;241m=\u001B[39m \u001B[38;5;28minput\u001B[39m\n\u001B[0;32m     75\u001B[0m \u001B[38;5;28;01mfor\u001B[39;00m layer \u001B[38;5;129;01min\u001B[39;00m \u001B[38;5;28mself\u001B[39m\u001B[38;5;241m.\u001B[39mlayers:\n\u001B[1;32m---> 76\u001B[0m     hidden \u001B[38;5;241m=\u001B[39m \u001B[43mlayer\u001B[49m\u001B[43m(\u001B[49m\u001B[43mgraph\u001B[49m\u001B[43m,\u001B[49m\u001B[43m \u001B[49m\u001B[43mlayer_input\u001B[49m\u001B[43m)\u001B[49m\n\u001B[0;32m     77\u001B[0m     \u001B[38;5;28;01mif\u001B[39;00m \u001B[38;5;28mself\u001B[39m\u001B[38;5;241m.\u001B[39mshort_cut \u001B[38;5;129;01mand\u001B[39;00m hidden\u001B[38;5;241m.\u001B[39mshape \u001B[38;5;241m==\u001B[39m layer_input\u001B[38;5;241m.\u001B[39mshape:\n\u001B[0;32m     78\u001B[0m         hidden \u001B[38;5;241m=\u001B[39m hidden \u001B[38;5;241m+\u001B[39m layer_input\n",
      "File \u001B[1;32mD:\\anaconda\\envs\\d2l\\lib\\site-packages\\torch\\nn\\modules\\module.py:1130\u001B[0m, in \u001B[0;36mModule._call_impl\u001B[1;34m(self, *input, **kwargs)\u001B[0m\n\u001B[0;32m   1126\u001B[0m \u001B[38;5;66;03m# If we don't have any hooks, we want to skip the rest of the logic in\u001B[39;00m\n\u001B[0;32m   1127\u001B[0m \u001B[38;5;66;03m# this function, and just call forward.\u001B[39;00m\n\u001B[0;32m   1128\u001B[0m \u001B[38;5;28;01mif\u001B[39;00m \u001B[38;5;129;01mnot\u001B[39;00m (\u001B[38;5;28mself\u001B[39m\u001B[38;5;241m.\u001B[39m_backward_hooks \u001B[38;5;129;01mor\u001B[39;00m \u001B[38;5;28mself\u001B[39m\u001B[38;5;241m.\u001B[39m_forward_hooks \u001B[38;5;129;01mor\u001B[39;00m \u001B[38;5;28mself\u001B[39m\u001B[38;5;241m.\u001B[39m_forward_pre_hooks \u001B[38;5;129;01mor\u001B[39;00m _global_backward_hooks\n\u001B[0;32m   1129\u001B[0m         \u001B[38;5;129;01mor\u001B[39;00m _global_forward_hooks \u001B[38;5;129;01mor\u001B[39;00m _global_forward_pre_hooks):\n\u001B[1;32m-> 1130\u001B[0m     \u001B[38;5;28;01mreturn\u001B[39;00m forward_call(\u001B[38;5;241m*\u001B[39m\u001B[38;5;28minput\u001B[39m, \u001B[38;5;241m*\u001B[39m\u001B[38;5;241m*\u001B[39mkwargs)\n\u001B[0;32m   1131\u001B[0m \u001B[38;5;66;03m# Do not call functions when jit is used\u001B[39;00m\n\u001B[0;32m   1132\u001B[0m full_backward_hooks, non_full_backward_hooks \u001B[38;5;241m=\u001B[39m [], []\n",
      "File \u001B[1;32mD:\\anaconda\\envs\\d2l\\lib\\site-packages\\torchdrug\\layers\\conv.py:91\u001B[0m, in \u001B[0;36mMessagePassingBase.forward\u001B[1;34m(self, graph, input)\u001B[0m\n\u001B[0;32m     89\u001B[0m     update \u001B[38;5;241m=\u001B[39m checkpoint\u001B[38;5;241m.\u001B[39mcheckpoint(\u001B[38;5;28mself\u001B[39m\u001B[38;5;241m.\u001B[39m_message_and_aggregate, \u001B[38;5;241m*\u001B[39mgraph\u001B[38;5;241m.\u001B[39mto_tensors(), \u001B[38;5;28minput\u001B[39m)\n\u001B[0;32m     90\u001B[0m \u001B[38;5;28;01melse\u001B[39;00m:\n\u001B[1;32m---> 91\u001B[0m     update \u001B[38;5;241m=\u001B[39m \u001B[38;5;28;43mself\u001B[39;49m\u001B[38;5;241;43m.\u001B[39;49m\u001B[43mmessage_and_aggregate\u001B[49m\u001B[43m(\u001B[49m\u001B[43mgraph\u001B[49m\u001B[43m,\u001B[49m\u001B[43m \u001B[49m\u001B[38;5;28;43minput\u001B[39;49m\u001B[43m)\u001B[49m\n\u001B[0;32m     92\u001B[0m output \u001B[38;5;241m=\u001B[39m \u001B[38;5;28mself\u001B[39m\u001B[38;5;241m.\u001B[39mcombine(\u001B[38;5;28minput\u001B[39m, update)\n\u001B[0;32m     93\u001B[0m \u001B[38;5;28;01mreturn\u001B[39;00m output\n",
      "File \u001B[1;32mD:\\anaconda\\envs\\d2l\\lib\\site-packages\\torchdrug\\layers\\conv.py:337\u001B[0m, in \u001B[0;36mGraphIsomorphismConv.message_and_aggregate\u001B[1;34m(self, graph, input)\u001B[0m\n\u001B[0;32m    336\u001B[0m \u001B[38;5;28;01mdef\u001B[39;00m \u001B[38;5;21mmessage_and_aggregate\u001B[39m(\u001B[38;5;28mself\u001B[39m, graph, \u001B[38;5;28minput\u001B[39m):\n\u001B[1;32m--> 337\u001B[0m     adjacency \u001B[38;5;241m=\u001B[39m \u001B[43mutils\u001B[49m\u001B[38;5;241;43m.\u001B[39;49m\u001B[43msparse_coo_tensor\u001B[49m\u001B[43m(\u001B[49m\u001B[43mgraph\u001B[49m\u001B[38;5;241;43m.\u001B[39;49m\u001B[43medge_list\u001B[49m\u001B[38;5;241;43m.\u001B[39;49m\u001B[43mt\u001B[49m\u001B[43m(\u001B[49m\u001B[43m)\u001B[49m\u001B[43m[\u001B[49m\u001B[43m:\u001B[49m\u001B[38;5;241;43m2\u001B[39;49m\u001B[43m]\u001B[49m\u001B[43m,\u001B[49m\u001B[43m \u001B[49m\u001B[43mgraph\u001B[49m\u001B[38;5;241;43m.\u001B[39;49m\u001B[43medge_weight\u001B[49m\u001B[43m,\u001B[49m\n\u001B[0;32m    338\u001B[0m \u001B[43m                                        \u001B[49m\u001B[43m(\u001B[49m\u001B[43mgraph\u001B[49m\u001B[38;5;241;43m.\u001B[39;49m\u001B[43mnum_node\u001B[49m\u001B[43m,\u001B[49m\u001B[43m \u001B[49m\u001B[43mgraph\u001B[49m\u001B[38;5;241;43m.\u001B[39;49m\u001B[43mnum_node\u001B[49m\u001B[43m)\u001B[49m\u001B[43m)\u001B[49m\n\u001B[0;32m    339\u001B[0m     update \u001B[38;5;241m=\u001B[39m torch\u001B[38;5;241m.\u001B[39msparse\u001B[38;5;241m.\u001B[39mmm(adjacency\u001B[38;5;241m.\u001B[39mt(), \u001B[38;5;28minput\u001B[39m)\n\u001B[0;32m    340\u001B[0m     \u001B[38;5;28;01mif\u001B[39;00m \u001B[38;5;28mself\u001B[39m\u001B[38;5;241m.\u001B[39medge_linear:\n",
      "File \u001B[1;32mD:\\anaconda\\envs\\d2l\\lib\\site-packages\\torchdrug\\utils\\torch.py:185\u001B[0m, in \u001B[0;36msparse_coo_tensor\u001B[1;34m(indices, values, size)\u001B[0m\n\u001B[0;32m    173\u001B[0m \u001B[38;5;28;01mdef\u001B[39;00m \u001B[38;5;21msparse_coo_tensor\u001B[39m(indices, values, size):\n\u001B[0;32m    174\u001B[0m \u001B[38;5;250m    \u001B[39m\u001B[38;5;124;03m\"\"\"\u001B[39;00m\n\u001B[0;32m    175\u001B[0m \u001B[38;5;124;03m    Construct a sparse COO tensor without index check. Much faster than `torch.sparse_coo_tensor`_.\u001B[39;00m\n\u001B[0;32m    176\u001B[0m \n\u001B[1;32m   (...)\u001B[0m\n\u001B[0;32m    183\u001B[0m \u001B[38;5;124;03m        size (list): size of the tensor\u001B[39;00m\n\u001B[0;32m    184\u001B[0m \u001B[38;5;124;03m    \"\"\"\u001B[39;00m\n\u001B[1;32m--> 185\u001B[0m     \u001B[38;5;28;01mreturn\u001B[39;00m \u001B[43mtorch_ext\u001B[49m\u001B[38;5;241;43m.\u001B[39;49m\u001B[43msparse_coo_tensor_unsafe\u001B[49m(indices, values, size)\n",
      "File \u001B[1;32mD:\\anaconda\\envs\\d2l\\lib\\site-packages\\torchdrug\\utils\\torch.py:26\u001B[0m, in \u001B[0;36mLazyExtensionLoader.__getattr__\u001B[1;34m(self, key)\u001B[0m\n\u001B[0;32m     25\u001B[0m \u001B[38;5;28;01mdef\u001B[39;00m \u001B[38;5;21m__getattr__\u001B[39m(\u001B[38;5;28mself\u001B[39m, key):\n\u001B[1;32m---> 26\u001B[0m     \u001B[38;5;28;01mreturn\u001B[39;00m \u001B[38;5;28mgetattr\u001B[39m(\u001B[38;5;28;43mself\u001B[39;49m\u001B[38;5;241;43m.\u001B[39;49m\u001B[43mmodule\u001B[49m, key)\n",
      "File \u001B[1;32mD:\\anaconda\\envs\\d2l\\lib\\site-packages\\torchdrug\\utils\\decorator.py:102\u001B[0m, in \u001B[0;36mcached_property.__get__\u001B[1;34m(self, obj, cls)\u001B[0m\n\u001B[0;32m    100\u001B[0m \u001B[38;5;28;01mif\u001B[39;00m obj \u001B[38;5;129;01mis\u001B[39;00m \u001B[38;5;28;01mNone\u001B[39;00m:\n\u001B[0;32m    101\u001B[0m     \u001B[38;5;28;01mreturn\u001B[39;00m \u001B[38;5;28mself\u001B[39m\n\u001B[1;32m--> 102\u001B[0m result \u001B[38;5;241m=\u001B[39m \u001B[38;5;28;43mself\u001B[39;49m\u001B[38;5;241;43m.\u001B[39;49m\u001B[43mfunc\u001B[49m\u001B[43m(\u001B[49m\u001B[43mobj\u001B[49m\u001B[43m)\u001B[49m\n\u001B[0;32m    103\u001B[0m obj\u001B[38;5;241m.\u001B[39m\u001B[38;5;18m__dict__\u001B[39m[\u001B[38;5;28mself\u001B[39m\u001B[38;5;241m.\u001B[39mfunc\u001B[38;5;241m.\u001B[39m\u001B[38;5;18m__name__\u001B[39m] \u001B[38;5;241m=\u001B[39m result\n\u001B[0;32m    104\u001B[0m \u001B[38;5;28;01mreturn\u001B[39;00m result\n",
      "File \u001B[1;32mD:\\anaconda\\envs\\d2l\\lib\\site-packages\\torchdrug\\utils\\torch.py:30\u001B[0m, in \u001B[0;36mLazyExtensionLoader.module\u001B[1;34m(self)\u001B[0m\n\u001B[0;32m     28\u001B[0m \u001B[38;5;129m@decorator\u001B[39m\u001B[38;5;241m.\u001B[39mcached_property\n\u001B[0;32m     29\u001B[0m \u001B[38;5;28;01mdef\u001B[39;00m \u001B[38;5;21mmodule\u001B[39m(\u001B[38;5;28mself\u001B[39m):\n\u001B[1;32m---> 30\u001B[0m     \u001B[38;5;28;01mreturn\u001B[39;00m cpp_extension\u001B[38;5;241m.\u001B[39mload(\u001B[38;5;28mself\u001B[39m\u001B[38;5;241m.\u001B[39mname, \u001B[38;5;28mself\u001B[39m\u001B[38;5;241m.\u001B[39msources, \u001B[38;5;28mself\u001B[39m\u001B[38;5;241m.\u001B[39mextra_cflags, \u001B[38;5;28mself\u001B[39m\u001B[38;5;241m.\u001B[39mextra_cuda_cflags,\n\u001B[0;32m     31\u001B[0m                               \u001B[38;5;28mself\u001B[39m\u001B[38;5;241m.\u001B[39mextra_ldflags, \u001B[38;5;28mself\u001B[39m\u001B[38;5;241m.\u001B[39mextra_include_paths, \u001B[38;5;28mself\u001B[39m\u001B[38;5;241m.\u001B[39mbuild_directory,\n\u001B[0;32m     32\u001B[0m                               \u001B[38;5;28mself\u001B[39m\u001B[38;5;241m.\u001B[39mverbose, \u001B[38;5;241m*\u001B[39m\u001B[38;5;241m*\u001B[39m\u001B[38;5;28mself\u001B[39m\u001B[38;5;241m.\u001B[39mkwargs)\n",
      "File \u001B[1;32mD:\\anaconda\\envs\\d2l\\lib\\site-packages\\torch\\utils\\cpp_extension.py:1202\u001B[0m, in \u001B[0;36mload\u001B[1;34m(name, sources, extra_cflags, extra_cuda_cflags, extra_ldflags, extra_include_paths, build_directory, verbose, with_cuda, is_python_module, is_standalone, keep_intermediates)\u001B[0m\n\u001B[0;32m   1111\u001B[0m \u001B[38;5;28;01mdef\u001B[39;00m \u001B[38;5;21mload\u001B[39m(name,\n\u001B[0;32m   1112\u001B[0m          sources: Union[\u001B[38;5;28mstr\u001B[39m, List[\u001B[38;5;28mstr\u001B[39m]],\n\u001B[0;32m   1113\u001B[0m          extra_cflags\u001B[38;5;241m=\u001B[39m\u001B[38;5;28;01mNone\u001B[39;00m,\n\u001B[1;32m   (...)\u001B[0m\n\u001B[0;32m   1121\u001B[0m          is_standalone\u001B[38;5;241m=\u001B[39m\u001B[38;5;28;01mFalse\u001B[39;00m,\n\u001B[0;32m   1122\u001B[0m          keep_intermediates\u001B[38;5;241m=\u001B[39m\u001B[38;5;28;01mTrue\u001B[39;00m):\n\u001B[0;32m   1123\u001B[0m \u001B[38;5;250m    \u001B[39m\u001B[38;5;124mr\u001B[39m\u001B[38;5;124;03m'''\u001B[39;00m\n\u001B[0;32m   1124\u001B[0m \u001B[38;5;124;03m    Loads a PyTorch C++ extension just-in-time (JIT).\u001B[39;00m\n\u001B[0;32m   1125\u001B[0m \n\u001B[1;32m   (...)\u001B[0m\n\u001B[0;32m   1200\u001B[0m \u001B[38;5;124;03m                verbose=True)\u001B[39;00m\n\u001B[0;32m   1201\u001B[0m \u001B[38;5;124;03m    '''\u001B[39;00m\n\u001B[1;32m-> 1202\u001B[0m     \u001B[38;5;28;01mreturn\u001B[39;00m \u001B[43m_jit_compile\u001B[49m\u001B[43m(\u001B[49m\n\u001B[0;32m   1203\u001B[0m \u001B[43m        \u001B[49m\u001B[43mname\u001B[49m\u001B[43m,\u001B[49m\n\u001B[0;32m   1204\u001B[0m \u001B[43m        \u001B[49m\u001B[43m[\u001B[49m\u001B[43msources\u001B[49m\u001B[43m]\u001B[49m\u001B[43m \u001B[49m\u001B[38;5;28;43;01mif\u001B[39;49;00m\u001B[43m \u001B[49m\u001B[38;5;28;43misinstance\u001B[39;49m\u001B[43m(\u001B[49m\u001B[43msources\u001B[49m\u001B[43m,\u001B[49m\u001B[43m \u001B[49m\u001B[38;5;28;43mstr\u001B[39;49m\u001B[43m)\u001B[49m\u001B[43m \u001B[49m\u001B[38;5;28;43;01melse\u001B[39;49;00m\u001B[43m \u001B[49m\u001B[43msources\u001B[49m\u001B[43m,\u001B[49m\n\u001B[0;32m   1205\u001B[0m \u001B[43m        \u001B[49m\u001B[43mextra_cflags\u001B[49m\u001B[43m,\u001B[49m\n\u001B[0;32m   1206\u001B[0m \u001B[43m        \u001B[49m\u001B[43mextra_cuda_cflags\u001B[49m\u001B[43m,\u001B[49m\n\u001B[0;32m   1207\u001B[0m \u001B[43m        \u001B[49m\u001B[43mextra_ldflags\u001B[49m\u001B[43m,\u001B[49m\n\u001B[0;32m   1208\u001B[0m \u001B[43m        \u001B[49m\u001B[43mextra_include_paths\u001B[49m\u001B[43m,\u001B[49m\n\u001B[0;32m   1209\u001B[0m \u001B[43m        \u001B[49m\u001B[43mbuild_directory\u001B[49m\u001B[43m \u001B[49m\u001B[38;5;129;43;01mor\u001B[39;49;00m\u001B[43m \u001B[49m\u001B[43m_get_build_directory\u001B[49m\u001B[43m(\u001B[49m\u001B[43mname\u001B[49m\u001B[43m,\u001B[49m\u001B[43m \u001B[49m\u001B[43mverbose\u001B[49m\u001B[43m)\u001B[49m\u001B[43m,\u001B[49m\n\u001B[0;32m   1210\u001B[0m \u001B[43m        \u001B[49m\u001B[43mverbose\u001B[49m\u001B[43m,\u001B[49m\n\u001B[0;32m   1211\u001B[0m \u001B[43m        \u001B[49m\u001B[43mwith_cuda\u001B[49m\u001B[43m,\u001B[49m\n\u001B[0;32m   1212\u001B[0m \u001B[43m        \u001B[49m\u001B[43mis_python_module\u001B[49m\u001B[43m,\u001B[49m\n\u001B[0;32m   1213\u001B[0m \u001B[43m        \u001B[49m\u001B[43mis_standalone\u001B[49m\u001B[43m,\u001B[49m\n\u001B[0;32m   1214\u001B[0m \u001B[43m        \u001B[49m\u001B[43mkeep_intermediates\u001B[49m\u001B[38;5;241;43m=\u001B[39;49m\u001B[43mkeep_intermediates\u001B[49m\u001B[43m)\u001B[49m\n",
      "File \u001B[1;32mD:\\anaconda\\envs\\d2l\\lib\\site-packages\\torch\\utils\\cpp_extension.py:1450\u001B[0m, in \u001B[0;36m_jit_compile\u001B[1;34m(name, sources, extra_cflags, extra_cuda_cflags, extra_ldflags, extra_include_paths, build_directory, verbose, with_cuda, is_python_module, is_standalone, keep_intermediates)\u001B[0m\n\u001B[0;32m   1447\u001B[0m \u001B[38;5;28;01mif\u001B[39;00m is_standalone:\n\u001B[0;32m   1448\u001B[0m     \u001B[38;5;28;01mreturn\u001B[39;00m _get_exec_path(name, build_directory)\n\u001B[1;32m-> 1450\u001B[0m \u001B[38;5;28;01mreturn\u001B[39;00m \u001B[43m_import_module_from_library\u001B[49m\u001B[43m(\u001B[49m\u001B[43mname\u001B[49m\u001B[43m,\u001B[49m\u001B[43m \u001B[49m\u001B[43mbuild_directory\u001B[49m\u001B[43m,\u001B[49m\u001B[43m \u001B[49m\u001B[43mis_python_module\u001B[49m\u001B[43m)\u001B[49m\n",
      "File \u001B[1;32mD:\\anaconda\\envs\\d2l\\lib\\site-packages\\torch\\utils\\cpp_extension.py:1844\u001B[0m, in \u001B[0;36m_import_module_from_library\u001B[1;34m(module_name, path, is_python_module)\u001B[0m\n\u001B[0;32m   1842\u001B[0m spec \u001B[38;5;241m=\u001B[39m importlib\u001B[38;5;241m.\u001B[39mutil\u001B[38;5;241m.\u001B[39mspec_from_file_location(module_name, filepath)\n\u001B[0;32m   1843\u001B[0m \u001B[38;5;28;01massert\u001B[39;00m spec \u001B[38;5;129;01mis\u001B[39;00m \u001B[38;5;129;01mnot\u001B[39;00m \u001B[38;5;28;01mNone\u001B[39;00m\n\u001B[1;32m-> 1844\u001B[0m module \u001B[38;5;241m=\u001B[39m \u001B[43mimportlib\u001B[49m\u001B[38;5;241;43m.\u001B[39;49m\u001B[43mutil\u001B[49m\u001B[38;5;241;43m.\u001B[39;49m\u001B[43mmodule_from_spec\u001B[49m\u001B[43m(\u001B[49m\u001B[43mspec\u001B[49m\u001B[43m)\u001B[49m\n\u001B[0;32m   1845\u001B[0m \u001B[38;5;28;01massert\u001B[39;00m \u001B[38;5;28misinstance\u001B[39m(spec\u001B[38;5;241m.\u001B[39mloader, importlib\u001B[38;5;241m.\u001B[39mabc\u001B[38;5;241m.\u001B[39mLoader)\n\u001B[0;32m   1846\u001B[0m spec\u001B[38;5;241m.\u001B[39mloader\u001B[38;5;241m.\u001B[39mexec_module(module)\n",
      "File \u001B[1;32m<frozen importlib._bootstrap>:565\u001B[0m, in \u001B[0;36mmodule_from_spec\u001B[1;34m(spec)\u001B[0m\n",
      "File \u001B[1;32m<frozen importlib._bootstrap_external>:1173\u001B[0m, in \u001B[0;36mcreate_module\u001B[1;34m(self, spec)\u001B[0m\n",
      "File \u001B[1;32m<frozen importlib._bootstrap>:228\u001B[0m, in \u001B[0;36m_call_with_frames_removed\u001B[1;34m(f, *args, **kwds)\u001B[0m\n",
      "\u001B[1;31mImportError\u001B[0m: DLL load failed while importing torch_ext: 找不到指定的模块。"
     ]
    }
   ],
   "source": [
    "optimizer = torch.optim.Adam(task.parameters(), lr=1e-3)\n",
    "solver = core.Engine(task, train_set, valid_set, test_set, optimizer, batch_size=1024, gpus=[0])\n",
    "solver.train(num_epoch=100)"
   ],
   "metadata": {
    "collapsed": false,
    "ExecuteTime": {
     "end_time": "2023-08-03T12:11:46.167141800Z",
     "start_time": "2023-08-03T12:11:45.829510400Z"
    }
   }
  },
  {
   "cell_type": "code",
   "execution_count": null,
   "outputs": [],
   "source": [],
   "metadata": {
    "collapsed": false
   }
  }
 ],
 "metadata": {
  "kernelspec": {
   "display_name": "Python 3",
   "language": "python",
   "name": "python3"
  },
  "language_info": {
   "codemirror_mode": {
    "name": "ipython",
    "version": 2
   },
   "file_extension": ".py",
   "mimetype": "text/x-python",
   "name": "python",
   "nbconvert_exporter": "python",
   "pygments_lexer": "ipython2",
   "version": "2.7.6"
  }
 },
 "nbformat": 4,
 "nbformat_minor": 0
}
